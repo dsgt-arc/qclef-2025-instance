{
 "cells": [
  {
   "cell_type": "markdown",
   "metadata": {},
   "source": [
    "##"
   ]
  },
  {
   "cell_type": "code",
   "execution_count": 1,
   "metadata": {},
   "outputs": [],
   "source": [
    "import pandas as pd\n",
    "from helper_functions import get_tfidf_embeddings, get_bert_embeddings\n",
    "from sklearn.manifold import TSNE\n",
    "import matplotlib.pyplot as plt\n",
    "import seaborn as sns"
   ]
  },
  {
   "cell_type": "code",
   "execution_count": 2,
   "metadata": {},
   "outputs": [],
   "source": [
    "#Load in data (I removed this file afterwards because it's redundant)\n",
    "vader_raw = pd.read_csv(\"../../../data/vader_nyt/nytEditorialSnippets_GroundTruth.txt\", sep='\\t', names=[\"id\",  \"meanSentimentRating\", \"textSnippet\"], header=None)"
   ]
  },
  {
   "cell_type": "code",
   "execution_count": 3,
   "metadata": {},
   "outputs": [],
   "source": [
    "#Bin sentiment into a binary variable, where 0 is negative and 1 is positive\n",
    "vader_raw['sentimentScore'] = (vader_raw['meanSentimentRating'] >= 0).astype(int)\n",
    "\n",
    "vader_raw.to_csv(\"../../../data/vader_nyt/raw_binned_nytEditorialSnippets.csv\")"
   ]
  },
  {
   "cell_type": "markdown",
   "metadata": {},
   "source": [
    "## Embedding"
   ]
  },
  {
   "cell_type": "code",
   "execution_count": 2,
   "metadata": {},
   "outputs": [],
   "source": [
    "vader_raw = pd.read_csv(\"../../../data/vader_nyt/raw_binned_nytEditorialSnippets.csv\")"
   ]
  },
  {
   "cell_type": "code",
   "execution_count": 3,
   "metadata": {},
   "outputs": [],
   "source": [
    "#Generate TF-IDF embeddings and save the output\n",
    "tfidf_embeddings = get_tfidf_embeddings(vader_raw['textSnippet'])\n",
    "tfidf_embeddings = tfidf_embeddings.join(vader_raw[['sentimentScore', 'meanSentimentRating']])\n",
    "tfidf_embeddings.to_csv(\"../../../data/vader_nyt/tfidf_nytEditorialSnippets.csv\")"
   ]
  },
  {
   "cell_type": "code",
   "execution_count": 19,
   "metadata": {},
   "outputs": [],
   "source": [
    "#Generate BERT embeddings and save the output\n",
    "bert_embeddings = pd.DataFrame(get_bert_embeddings(list(vader_raw['textSnippet'])))\n",
    "bert_embeddings = bert_embeddings.join(vader_raw[['sentimentScore', 'meanSentimentRating']])\n",
    "bert_embeddings.to_csv(\"../../../data/vader_nyt/bert_nytEditorialSnippets.csv\")"
   ]
  }
 ],
 "metadata": {
  "kernelspec": {
   "display_name": "Python 3",
   "language": "python",
   "name": "python3"
  },
  "language_info": {
   "codemirror_mode": {
    "name": "ipython",
    "version": 3
   },
   "file_extension": ".py",
   "mimetype": "text/x-python",
   "name": "python",
   "nbconvert_exporter": "python",
   "pygments_lexer": "ipython3",
   "version": "3.12.8"
  }
 },
 "nbformat": 4,
 "nbformat_minor": 2
}
